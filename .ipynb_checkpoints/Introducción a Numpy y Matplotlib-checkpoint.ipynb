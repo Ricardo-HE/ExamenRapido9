{
 "cells": [
  {
   "cell_type": "code",
   "execution_count": 5,
   "metadata": {},
   "outputs": [],
   "source": [
    "%matplotlib inline\n",
    "import numpy as np\n",
    "import matplotlib.pyplot as pls\n"
   ]
  },
  {
   "cell_type": "markdown",
   "metadata": {},
   "source": [
    "## Inicializando variables en Numpy"
   ]
  },
  {
   "cell_type": "code",
   "execution_count": 6,
   "metadata": {},
   "outputs": [
    {
     "name": "stdout",
     "output_type": "stream",
     "text": [
      "vector a = \n",
      "[ 1.      3.1416 40.      0.      2.      5.    ]\n",
      "matriz A = \n",
      "[[1 2]\n",
      " [3 4]\n",
      " [5 6]]\n"
     ]
    }
   ],
   "source": [
    "# Crea un objeto vector\n",
    "vector_a = np.array([1, 3.1416, 40, 0, 2, 5])\n",
    "print(\"vector a = \\n{}\".format(vector_a)) \n",
    "\n",
    "      # Crea una matriz\n",
    "matriz_A = np.array([[1, 2], [3, 4], [5, 6]])\n",
    "print(\"matriz A = \\n{}\".format(matriz_A)) "
   ]
  },
  {
   "cell_type": "code",
   "execution_count": 8,
   "metadata": {},
   "outputs": [],
   "source": [
    "vr = np.array"
   ]
  },
  {
   "cell_type": "markdown",
   "metadata": {},
   "source": [
    "Ejemplos de arreglos de numpy"
   ]
  },
  {
   "cell_type": "code",
   "execution_count": 9,
   "metadata": {},
   "outputs": [
    {
     "name": "stdout",
     "output_type": "stream",
     "text": [
      "Un vector de ceros con 5 valores\n",
      "[0. 0. 0. 0. 0.]\n"
     ]
    }
   ],
   "source": [
    "vZ = np.zeros(5)\n",
    "print(\"Un vector de ceros con 5 valores\")\n",
    "print(vZ)"
   ]
  },
  {
   "cell_type": "code",
   "execution_count": 10,
   "metadata": {},
   "outputs": [
    {
     "name": "stdout",
     "output_type": "stream",
     "text": [
      "Una matriz de 3 x 10 de puros unos\n",
      "[[1. 1. 1. 1. 1. 1. 1. 1. 1. 1.]\n",
      " [1. 1. 1. 1. 1. 1. 1. 1. 1. 1.]\n",
      " [1. 1. 1. 1. 1. 1. 1. 1. 1. 1.]]\n"
     ]
    }
   ],
   "source": [
    "mO = np.ones((3, 10))\n",
    "print(\"Una matriz de 3 x 10 de puros unos\")\n",
    "print(mO)"
   ]
  },
  {
   "cell_type": "code",
   "execution_count": 11,
   "metadata": {},
   "outputs": [
    {
     "name": "stdout",
     "output_type": "stream",
     "text": [
      "va = \n",
      "[0 1 2 3 4 5 6 7 8 9]\n"
     ]
    }
   ],
   "source": [
    "va = np.arange(10)\n",
    "print(\"va = \")\n",
    "print(va)"
   ]
  },
  {
   "cell_type": "code",
   "execution_count": 12,
   "metadata": {},
   "outputs": [
    {
     "name": "stdout",
     "output_type": "stream",
     "text": [
      "vb = \n",
      "[20 15 10  5  0 -5]\n"
     ]
    }
   ],
   "source": [
    "vb = np.arange(20,-10,-5)\n",
    "print(\"vb = \")\n",
    "print(vb)"
   ]
  },
  {
   "cell_type": "code",
   "execution_count": 13,
   "metadata": {},
   "outputs": [
    {
     "name": "stdout",
     "output_type": "stream",
     "text": [
      "Una matriz de ceros de las dimensiones de mO:\n",
      "[[0. 0. 0. 0. 0. 0. 0. 0. 0. 0.]\n",
      " [0. 0. 0. 0. 0. 0. 0. 0. 0. 0.]\n",
      " [0. 0. 0. 0. 0. 0. 0. 0. 0. 0.]]\n"
     ]
    }
   ],
   "source": [
    "print(\"Una matriz de ceros de las dimensiones de mO:\")\n",
    "print(np.zeros_like(mO))"
   ]
  },
  {
   "cell_type": "code",
   "execution_count": 14,
   "metadata": {},
   "outputs": [
    {
     "name": "stdout",
     "output_type": "stream",
     "text": [
      "Y una matriz con números aleatorios bajo una distribución uniforme entre 0 y 1\n",
      "[[0.96994904 0.86672554 0.02381279 0.11325324 0.21769038 0.40559458\n",
      "  0.73914287 0.6874913  0.96120528 0.00618759 0.27809095 0.16637125]\n",
      " [0.67814211 0.17483724 0.33516022 0.43668542 0.51154687 0.95067861\n",
      "  0.14738114 0.02887549 0.85096212 0.82587958 0.58637697 0.12292254]\n",
      " [0.09026989 0.11196398 0.25411057 0.19516461 0.37032164 0.70130814\n",
      "  0.76253376 0.36468289 0.78213152 0.78924122 0.18648652 0.76936403]\n",
      " [0.14988423 0.05610306 0.54700425 0.96196766 0.02555296 0.19964061\n",
      "  0.83454818 0.8508567  0.10560862 0.34694229 0.44872919 0.27551151]\n",
      " [0.79019407 0.86340532 0.02648017 0.05681632 0.61202114 0.22904423\n",
      "  0.52954639 0.23400702 0.64782299 0.73661164 0.16689643 0.09768887]]\n"
     ]
    }
   ],
   "source": [
    "mA = np.random.rand(5, 12)\n",
    "print(\"Y una matriz con números aleatorios bajo una distribución uniforme entre 0 y 1\")\n",
    "print(mA)"
   ]
  },
  {
   "cell_type": "markdown",
   "metadata": {},
   "source": [
    "## Ejercicio:\n",
    "Crear las siguientes matrices:\n",
    "\n",
    "Una matriz de 4 por 6 con valores aleatorios de acuerdo a una distribución normal con media cero y varianza unitaria.\n",
    "\n",
    "Un vector de 10 elementos con valores aleatorios de números enteros entre 4 y 100\n",
    "\n",
    "Una matriz diagonal de 5 por 5 cuyos elementos de la diagonal sean (1, 2, 3, 4, 5)"
   ]
  },
  {
   "cell_type": "code",
   "execution_count": 20,
   "metadata": {},
   "outputs": [
    {
     "name": "stdout",
     "output_type": "stream",
     "text": [
      "Matriz 4x6 con valores aleatorios de acuerdo a una distribución normal con media cero y varianza unitaria:\n",
      "[[-0.47028152  0.89852208  1.7971383  -0.78190108 -1.8988178  -0.40731233]\n",
      " [ 0.92988749 -0.78011048 -0.98414137  0.10908305  0.63493246  2.06660379]\n",
      " [ 0.38525295  1.45013808 -1.20092611 -0.68911962 -0.56457639  0.31170098]\n",
      " [ 0.11339278 -0.01344339 -0.19455642  1.6891154   1.46581556 -0.41550964]]\n"
     ]
    }
   ],
   "source": [
    "#1\n",
    "mA = np.random.randn(4, 6)\n",
    "print(\"Matriz 4x6 con valores aleatorios de acuerdo a una distribución normal con media cero y varianza unitaria:\")\n",
    "print(mA)"
   ]
  },
  {
   "cell_type": "code",
   "execution_count": 23,
   "metadata": {},
   "outputs": [
    {
     "name": "stdout",
     "output_type": "stream",
     "text": [
      "Vector de 10 elementos con valores aleatorios de números enteros entre 4 y 100:\n",
      "[ 6 41 27 77 47 53 32 50 21 97]\n"
     ]
    }
   ],
   "source": [
    "import random\n",
    "\n",
    "#2\n",
    "mB = np.array([random.randint(4, 100) for x in range(10)])\n",
    "print(\"Vector de 10 elementos con valores aleatorios de números enteros entre 4 y 100:\")\n",
    "print(mB)"
   ]
  },
  {
   "cell_type": "code",
   "execution_count": 26,
   "metadata": {},
   "outputs": [
    {
     "name": "stdout",
     "output_type": "stream",
     "text": [
      "Una matriz diagonal de 5 por 5 cuyos elementos de la diagonal sean (1, 2, 3, 4, 5)\n",
      "[[1. 0. 0. 0. 0.]\n",
      " [0. 2. 0. 0. 0.]\n",
      " [0. 0. 3. 0. 0.]\n",
      " [0. 0. 0. 4. 0.]\n",
      " [0. 0. 0. 0. 5.]]\n"
     ]
    }
   ],
   "source": [
    "#3\n",
    "mC = np.zeros((5,5))\n",
    "for i in range(5):\n",
    "    mC[i][i] = i+1\n",
    "print(\"Una matriz diagonal de 5 por 5 cuyos elementos de la diagonal sean (1, 2, 3, 4, 5)\")\n",
    "print(mC)"
   ]
  },
  {
   "cell_type": "markdown",
   "metadata": {},
   "source": [
    "## Operaciones básicas de los ndarray"
   ]
  },
  {
   "cell_type": "code",
   "execution_count": 27,
   "metadata": {},
   "outputs": [
    {
     "name": "stdout",
     "output_type": "stream",
     "text": [
      "a = \n",
      "[[1 2 3]\n",
      " [4 5 6]]\n",
      "b = \n",
      "[[0.13933037 0.41569291 0.76184839]\n",
      " [0.72926697 0.93404523 0.6112152 ]]\n",
      "Suma de todos los números de b\n",
      "3.591399079883961\n",
      "Media de cada columna de a\n",
      "[2.5 3.5 4.5]\n",
      "Transpuesta de a, forma larga\n",
      "[[1 4]\n",
      " [2 5]\n",
      " [3 6]]\n",
      "Transpuesta de a, forma preferida\n",
      "[[1 4]\n",
      " [2 5]\n",
      " [3 6]]\n",
      "10 * b = \n",
      "[[1.39330374 4.15692907 7.61848394]\n",
      " [7.29266971 9.34045232 6.11215202]]\n",
      "a * b =\n",
      "[[0.13933037 0.83138581 2.28554518]\n",
      " [2.91706788 4.67022616 3.66729121]]\n",
      "2 elevado a la matriz a\n",
      "[[ 2  4  8]\n",
      " [16 32 64]]\n",
      "a elevada al cuadrado (elemento a elemento)\n",
      "[[ 1  4  9]\n",
      " [16 25 36]]\n",
      "a.dot(b.T) = \n",
      "[[ 3.25626137  4.43100304]\n",
      " [ 7.2068764  11.25458525]]\n",
      "a.dot(b) debería dar error\n"
     ]
    },
    {
     "ename": "ValueError",
     "evalue": "shapes (2,3) and (2,3) not aligned: 3 (dim 1) != 2 (dim 0)",
     "output_type": "error",
     "traceback": [
      "\u001b[0;31m---------------------------------------------------------------------------\u001b[0m",
      "\u001b[0;31mValueError\u001b[0m                                Traceback (most recent call last)",
      "\u001b[0;32m<ipython-input-27-77e3385212fb>\u001b[0m in \u001b[0;36m<module>\u001b[0;34m()\u001b[0m\n\u001b[1;32m     34\u001b[0m \u001b[0;34m\u001b[0m\u001b[0m\n\u001b[1;32m     35\u001b[0m \u001b[0;32mprint\u001b[0m\u001b[0;34m(\u001b[0m\u001b[0;34m\"a.dot(b) debería dar error\"\u001b[0m\u001b[0;34m)\u001b[0m\u001b[0;34m\u001b[0m\u001b[0m\n\u001b[0;32m---> 36\u001b[0;31m \u001b[0;32mprint\u001b[0m\u001b[0;34m(\u001b[0m\u001b[0ma\u001b[0m\u001b[0;34m.\u001b[0m\u001b[0mdot\u001b[0m\u001b[0;34m(\u001b[0m\u001b[0mb\u001b[0m\u001b[0;34m)\u001b[0m\u001b[0;34m)\u001b[0m\u001b[0;34m\u001b[0m\u001b[0m\n\u001b[0m",
      "\u001b[0;31mValueError\u001b[0m: shapes (2,3) and (2,3) not aligned: 3 (dim 1) != 2 (dim 0)"
     ]
    }
   ],
   "source": [
    "# Vamos a generar varios ndarrays\n",
    "a = np.array([[1, 2, 3], [4, 5, 6]])\n",
    "b = np.random.rand(2, 3)\n",
    "\n",
    "print(\"a = \\n{}\".format(a))\n",
    "print(\"b = \\n{}\".format(b))\n",
    "\n",
    "print(\"Suma de todos los números de b\")\n",
    "print(b.sum())\n",
    "\n",
    "print(\"Media de cada columna de a\")\n",
    "print(a.mean(axis=0))\n",
    "\n",
    "print(\"Transpuesta de a, forma larga\")\n",
    "print(a.transpose())\n",
    "\n",
    "print(\"Transpuesta de a, forma preferida\")\n",
    "print(a.T)\n",
    "\n",
    "print(\"10 * b = \")\n",
    "print(10 * b)\n",
    "\n",
    "print(\"a * b =\")\n",
    "print(a * b)\n",
    "\n",
    "print(\"2 elevado a la matriz a\")\n",
    "print(np.power(2, a))\n",
    "\n",
    "print(\"a elevada al cuadrado (elemento a elemento)\")\n",
    "print(np.power(a, 2))\n",
    "\n",
    "print(\"a.dot(b.T) = \")\n",
    "print(a.dot(b.T))\n",
    "\n",
    "print(\"a.dot(b) debería dar error\")\n",
    "print(a.dot(b))"
   ]
  },
  {
   "cell_type": "markdown",
   "metadata": {},
   "source": [
    "## Ejercicio:\n",
    "Trata de inferir que es lo que debe contener cada array b, c, d, e, f, g, h sin hacer ninguna prueba y escribelos como comentario. Posteriormente, agrega los print que consideres necesarios para verificar que valores tiene b, c, d, e, f, g, h ."
   ]
  },
  {
   "cell_type": "code",
   "execution_count": 28,
   "metadata": {},
   "outputs": [
    {
     "name": "stdout",
     "output_type": "stream",
     "text": [
      "El número de dimensiones de a es: 1\n",
      "Y su forma es (100,)\n",
      "Y tiene 100 elementos\n"
     ]
    }
   ],
   "source": [
    "#Generamos el ndarray\n",
    "a = np.arange(100)\n",
    "\n",
    "# Chacamos algunas propiedades\n",
    "print(\"El número de dimensiones de a es: {}\".format(a.ndim))\n",
    "print(\"Y su forma es {}\".format(a.shape))\n",
    "print(\"Y tiene {} elementos\".format(a.size))"
   ]
  },
  {
   "cell_type": "code",
   "execution_count": 29,
   "metadata": {},
   "outputs": [],
   "source": [
    "#Generamos algunos ndarrays a partir de a\n",
    "b, c = a[:20], a[20:]\n",
    "d, e = a[-1:-10:-1], a[10:11]\n",
    "f = a[::-1]\n",
    "g = a[a % 5 == 0]\n",
    "h = f[[1, 15, 60]]\n",
    "\n",
    "# Ahora trata de inferir que es lo que debe contener cada array b, c, d, e, f, g, h sin hacer ninguna prueba.\n",
    "# \n",
    "# b = [0,1,2,3,4,5,6,...,19]\n",
    "# c = [19,21,22,23,...99]\n",
    "# d = []"
   ]
  },
  {
   "cell_type": "code",
   "execution_count": 31,
   "metadata": {},
   "outputs": [
    {
     "data": {
      "text/plain": [
       "array([ 0,  1,  2,  3,  4,  5,  6,  7,  8,  9, 10, 11, 12, 13, 14, 15, 16,\n",
       "       17, 18, 19, 20, 21, 22, 23, 24, 25, 26, 27, 28, 29, 30, 31, 32, 33,\n",
       "       34, 35, 36, 37, 38, 39, 40, 41, 42, 43, 44, 45, 46, 47, 48, 49, 50,\n",
       "       51, 52, 53, 54, 55, 56, 57, 58, 59, 60, 61, 62, 63, 64, 65, 66, 67,\n",
       "       68, 69, 70, 71, 72, 73, 74, 75, 76, 77, 78, 79, 80, 81, 82, 83, 84,\n",
       "       85, 86, 87, 88, 89, 90, 91, 92, 93, 94, 95, 96, 97, 98, 99])"
      ]
     },
     "execution_count": 31,
     "metadata": {},
     "output_type": "execute_result"
    }
   ],
   "source": [
    "a"
   ]
  },
  {
   "cell_type": "code",
   "execution_count": null,
   "metadata": {},
   "outputs": [],
   "source": []
  }
 ],
 "metadata": {
  "kernelspec": {
   "display_name": "Python 3",
   "language": "python",
   "name": "python3"
  },
  "language_info": {
   "codemirror_mode": {
    "name": "ipython",
    "version": 2
   },
   "file_extension": ".py",
   "mimetype": "text/x-python",
   "name": "python",
   "nbconvert_exporter": "python",
   "pygments_lexer": "ipython2",
   "version": "2.7.12"
  }
 },
 "nbformat": 4,
 "nbformat_minor": 2
}
